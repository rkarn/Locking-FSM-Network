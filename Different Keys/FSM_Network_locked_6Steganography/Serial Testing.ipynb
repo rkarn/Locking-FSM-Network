{
 "cells": [
  {
   "cell_type": "code",
   "execution_count": 4,
   "id": "2bcaaae3",
   "metadata": {},
   "outputs": [],
   "source": [
    "import serial\n",
    "\n",
    "serialPort = serial.Serial(port = \"/dev/ttyUSB1\", baudrate=115200,\n",
    "                           bytesize=8, timeout=2, stopbits=serial.STOPBITS_ONE)"
   ]
  },
  {
   "cell_type": "code",
   "execution_count": 5,
   "id": "c5fbdefb",
   "metadata": {},
   "outputs": [
    {
     "name": "stdout",
     "output_type": "stream",
     "text": [
      "Converting the integer value to byte format.\n",
      "[b'\\x00', b'\\x01', b'\\x02', b'\\x03', b'\\x04', b'\\x05', b'\\x06', b'\\x07', b'\\x08', b'\\t', b'\\n', b'\\x0b', b'\\x0c', b'\\r', b'\\x0e', b'\\x0f', b'\\x10', b'\\x11', b'\\x12', b'\\x13']\n"
     ]
    }
   ],
   "source": [
    "#Converting the value to bytes.\n",
    "print('Converting the integer value to byte format.')\n",
    "import numpy as np\n",
    "Byte_X_train=[]\n",
    "to_fpga = range(20)\n",
    "for i in to_fpga:\n",
    "    Byte_X_train.append(bytes([i]))\n",
    "    \n",
    "print(Byte_X_train)"
   ]
  },
  {
   "cell_type": "code",
   "execution_count": 6,
   "id": "e7b64805",
   "metadata": {},
   "outputs": [
    {
     "name": "stdout",
     "output_type": "stream",
     "text": [
      "Data to be send to FPGA:  [0, 1, 2, 3, 4, 5, 6, 7, 8, 9, 10, 11, 12, 13, 14, 15, 16, 17, 18, 19]\n",
      "------------------Sending to FPGA------------------------\n",
      "Byte stream created. Sending now: [b'\\x00', b'\\x01', b'\\x02', b'\\x03', b'\\x04', b'\\x05', b'\\x06', b'\\x07', b'\\x08', b'\\t', b'\\n', b'\\x0b', b'\\x0c', b'\\r', b'\\x0e', b'\\x0f', b'\\x10', b'\\x11', b'\\x12', b'\\x13']\n",
      "Sent bytes of length 20.\n",
      "-----------Received data from FPGA.-----------\n",
      "Length of received data 20\n",
      "Received data:  [0, 1, 2, 3, 4, 5, 6, 7, 8, 9, 10, 11, 12, 13, 14, 15, 16, 17, 18, 19]\n",
      "Do you want to continue: press Y for yes and N for no.\n",
      "N\n",
      "Thank you for using decision tree inference in FPGA.\n"
     ]
    }
   ],
   "source": [
    "import time\n",
    "import pdb\n",
    "import itertools\n",
    "from IPython.display import clear_output\n",
    "import matplotlib.pyplot as plt\n",
    "%matplotlib inline\n",
    "fig = plt.figure\n",
    "while(1):\n",
    "    completedata_from_fpga = []\n",
    "    serialPort.reset_input_buffer()\n",
    "    serialPort.reset_output_buffer()  \n",
    "    print('Data to be send to FPGA: ',list(to_fpga))\n",
    "    print('------------------Sending to FPGA------------------------')\n",
    "    print('Byte stream created. Sending now: {}'.format(Byte_X_train))\n",
    "    print('Sent bytes of length {}.'.format(len(Byte_X_train)))\n",
    "    serialString = \"\"                           # Used to hold data coming over UART\n",
    "    for val in Byte_X_train:\n",
    "        sent_val = serialPort.write(val)\n",
    "    #print('Number of bytes sent is: {}. '.format(sent_val))\n",
    "    count_received_data = 0\n",
    "    while(1):\n",
    "        # Wait until there is data waiting in the serial buffer\n",
    "        if(serialPort.in_waiting > 0):\n",
    "            serialString = serialPort.readlines()\n",
    "            print('-----------Received data from FPGA.-----------')\n",
    "            for string in serialString:\n",
    "                received_data=list(string)\n",
    "                completedata_from_fpga.append(received_data)                \n",
    "                count_received_data = count_received_data + len(received_data) \n",
    "            print('Length of received data {}'.format(count_received_data))\n",
    "            #Sanity check that sent and received pixels values are same.\n",
    "            from_fpga = list(itertools.chain.from_iterable(completedata_from_fpga))\n",
    "            print('Received data: ', from_fpga)\n",
    "            for i,j in zip(to_fpga, from_fpga):\n",
    "                if i!=j:\n",
    "                    print(i,j)\n",
    "            break\n",
    "    print('Do you want to continue: press Y for yes and N for no.')\n",
    "    continue_command = input()\n",
    "    if continue_command == 'Y' or continue_command =='y':\n",
    "        clear_output(wait=True)\n",
    "    else:\n",
    "        print('Thank you for using decision tree inference in FPGA.')\n",
    "        break"
   ]
  },
  {
   "cell_type": "code",
   "execution_count": null,
   "id": "8a156fb1",
   "metadata": {},
   "outputs": [],
   "source": []
  }
 ],
 "metadata": {
  "kernelspec": {
   "display_name": "Python 3 (ipykernel)",
   "language": "python",
   "name": "python3"
  },
  "language_info": {
   "codemirror_mode": {
    "name": "ipython",
    "version": 3
   },
   "file_extension": ".py",
   "mimetype": "text/x-python",
   "name": "python",
   "nbconvert_exporter": "python",
   "pygments_lexer": "ipython3",
   "version": "3.11.2"
  }
 },
 "nbformat": 4,
 "nbformat_minor": 5
}
